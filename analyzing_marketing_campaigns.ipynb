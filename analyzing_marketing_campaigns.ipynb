{
 "cells": [
  {
   "cell_type": "markdown",
   "metadata": {},
   "source": [
    "# Analyzing marketing campaigns"
   ]
  },
  {
   "cell_type": "markdown",
   "metadata": {},
   "source": [
    "**Description**\n",
    "\n",
    "- "
   ]
  },
  {
   "cell_type": "markdown",
   "metadata": {},
   "source": [
    "## Import modules"
   ]
  },
  {
   "cell_type": "code",
   "execution_count": 1,
   "metadata": {},
   "outputs": [],
   "source": [
    "# Standard\n",
    "import numpy as np\n",
    "import pandas as pd\n",
    "import matplotlib.pyplot as plt\n",
    "\n",
    "# Preprocessing\n",
    "from sklearn.preprocessing import OrdinalEncoder\n"
   ]
  },
  {
   "cell_type": "markdown",
   "metadata": {},
   "source": [
    "## Configuration"
   ]
  },
  {
   "cell_type": "code",
   "execution_count": 2,
   "metadata": {},
   "outputs": [],
   "source": [
    "pad = 50"
   ]
  },
  {
   "cell_type": "markdown",
   "metadata": {},
   "source": [
    "## Read data"
   ]
  },
  {
   "cell_type": "code",
   "execution_count": 3,
   "metadata": {},
   "outputs": [
    {
     "data": {
      "text/plain": [
       "(10037, 12)"
      ]
     },
     "execution_count": 3,
     "metadata": {},
     "output_type": "execute_result"
    }
   ],
   "source": [
    "# There are 3 date columns which pandas\n",
    "# will import as objects, so ensuring they\n",
    "# are properly imported as datetime objects\n",
    "data = pd.read_csv('./Data/marketing_dataset_1.csv', \n",
    "                   parse_dates=['date_served', \n",
    "                                'date_subscribed', \n",
    "                                'date_canceled'])\n",
    "data.shape"
   ]
  },
  {
   "cell_type": "code",
   "execution_count": 4,
   "metadata": {},
   "outputs": [
    {
     "data": {
      "text/html": [
       "<div>\n",
       "<style scoped>\n",
       "    .dataframe tbody tr th:only-of-type {\n",
       "        vertical-align: middle;\n",
       "    }\n",
       "\n",
       "    .dataframe tbody tr th {\n",
       "        vertical-align: top;\n",
       "    }\n",
       "\n",
       "    .dataframe thead th {\n",
       "        text-align: right;\n",
       "    }\n",
       "</style>\n",
       "<table border=\"1\" class=\"dataframe\">\n",
       "  <thead>\n",
       "    <tr style=\"text-align: right;\">\n",
       "      <th></th>\n",
       "      <th>user_id</th>\n",
       "      <th>date_served</th>\n",
       "      <th>marketing_channel</th>\n",
       "      <th>variant</th>\n",
       "      <th>converted</th>\n",
       "      <th>language_displayed</th>\n",
       "      <th>language_preferred</th>\n",
       "      <th>age_group</th>\n",
       "      <th>date_subscribed</th>\n",
       "      <th>date_canceled</th>\n",
       "      <th>subscribing_channel</th>\n",
       "      <th>is_retained</th>\n",
       "    </tr>\n",
       "  </thead>\n",
       "  <tbody>\n",
       "    <tr>\n",
       "      <th>0</th>\n",
       "      <td>a100000029</td>\n",
       "      <td>2018-01-01</td>\n",
       "      <td>House Ads</td>\n",
       "      <td>personalization</td>\n",
       "      <td>True</td>\n",
       "      <td>English</td>\n",
       "      <td>English</td>\n",
       "      <td>0-18 years</td>\n",
       "      <td>2018-01-01</td>\n",
       "      <td>NaT</td>\n",
       "      <td>House Ads</td>\n",
       "      <td>True</td>\n",
       "    </tr>\n",
       "    <tr>\n",
       "      <th>1</th>\n",
       "      <td>a100000030</td>\n",
       "      <td>2018-01-01</td>\n",
       "      <td>House Ads</td>\n",
       "      <td>personalization</td>\n",
       "      <td>True</td>\n",
       "      <td>English</td>\n",
       "      <td>English</td>\n",
       "      <td>19-24 years</td>\n",
       "      <td>2018-01-01</td>\n",
       "      <td>NaT</td>\n",
       "      <td>House Ads</td>\n",
       "      <td>True</td>\n",
       "    </tr>\n",
       "    <tr>\n",
       "      <th>2</th>\n",
       "      <td>a100000031</td>\n",
       "      <td>2018-01-01</td>\n",
       "      <td>House Ads</td>\n",
       "      <td>personalization</td>\n",
       "      <td>True</td>\n",
       "      <td>English</td>\n",
       "      <td>English</td>\n",
       "      <td>24-30 years</td>\n",
       "      <td>2018-01-01</td>\n",
       "      <td>NaT</td>\n",
       "      <td>House Ads</td>\n",
       "      <td>True</td>\n",
       "    </tr>\n",
       "    <tr>\n",
       "      <th>3</th>\n",
       "      <td>a100000032</td>\n",
       "      <td>2018-01-01</td>\n",
       "      <td>House Ads</td>\n",
       "      <td>personalization</td>\n",
       "      <td>True</td>\n",
       "      <td>English</td>\n",
       "      <td>English</td>\n",
       "      <td>30-36 years</td>\n",
       "      <td>2018-01-01</td>\n",
       "      <td>NaT</td>\n",
       "      <td>House Ads</td>\n",
       "      <td>True</td>\n",
       "    </tr>\n",
       "    <tr>\n",
       "      <th>4</th>\n",
       "      <td>a100000033</td>\n",
       "      <td>2018-01-01</td>\n",
       "      <td>House Ads</td>\n",
       "      <td>personalization</td>\n",
       "      <td>True</td>\n",
       "      <td>English</td>\n",
       "      <td>English</td>\n",
       "      <td>36-45 years</td>\n",
       "      <td>2018-01-01</td>\n",
       "      <td>NaT</td>\n",
       "      <td>House Ads</td>\n",
       "      <td>True</td>\n",
       "    </tr>\n",
       "  </tbody>\n",
       "</table>\n",
       "</div>"
      ],
      "text/plain": [
       "      user_id date_served marketing_channel          variant converted  \\\n",
       "0  a100000029  2018-01-01         House Ads  personalization      True   \n",
       "1  a100000030  2018-01-01         House Ads  personalization      True   \n",
       "2  a100000031  2018-01-01         House Ads  personalization      True   \n",
       "3  a100000032  2018-01-01         House Ads  personalization      True   \n",
       "4  a100000033  2018-01-01         House Ads  personalization      True   \n",
       "\n",
       "  language_displayed language_preferred    age_group date_subscribed  \\\n",
       "0            English            English   0-18 years      2018-01-01   \n",
       "1            English            English  19-24 years      2018-01-01   \n",
       "2            English            English  24-30 years      2018-01-01   \n",
       "3            English            English  30-36 years      2018-01-01   \n",
       "4            English            English  36-45 years      2018-01-01   \n",
       "\n",
       "  date_canceled subscribing_channel is_retained  \n",
       "0           NaT           House Ads        True  \n",
       "1           NaT           House Ads        True  \n",
       "2           NaT           House Ads        True  \n",
       "3           NaT           House Ads        True  \n",
       "4           NaT           House Ads        True  "
      ]
     },
     "execution_count": 4,
     "metadata": {},
     "output_type": "execute_result"
    }
   ],
   "source": [
    "# Examing few samples\n",
    "\n",
    "data.head()"
   ]
  },
  {
   "cell_type": "markdown",
   "metadata": {},
   "source": [
    "## EDA and initial data prep"
   ]
  },
  {
   "cell_type": "code",
   "execution_count": 5,
   "metadata": {},
   "outputs": [],
   "source": [
    "# Creating a backup before changes\n",
    "df = data.copy()"
   ]
  },
  {
   "cell_type": "code",
   "execution_count": 6,
   "metadata": {},
   "outputs": [],
   "source": [
    "# Converting string to bool\n",
    "\n",
    "bool_workaround_dict = {'True':True, \n",
    "                        'False':False}\n",
    "\n",
    "df['is_retained'].map(bool_workaround_dict, \n",
    "                      na_action='ignore'); # works even without this but is used to explicitly not take an action on missing values"
   ]
  },
  {
   "cell_type": "code",
   "execution_count": 7,
   "metadata": {},
   "outputs": [
    {
     "data": {
      "text/plain": [
       "NaN      8181\n",
       "True     1279\n",
       "False     577\n",
       "Name: is_retained, dtype: int64"
      ]
     },
     "execution_count": 7,
     "metadata": {},
     "output_type": "execute_result"
    }
   ],
   "source": [
    "# Verifying conversion\n",
    "\n",
    "df['is_retained'].value_counts(dropna=False)"
   ]
  },
  {
   "cell_type": "code",
   "execution_count": 8,
   "metadata": {},
   "outputs": [
    {
     "data": {
      "text/plain": [
       "NaN      8181\n",
       "True     1279\n",
       "False     577\n",
       "Name: is_retained, dtype: int64"
      ]
     },
     "execution_count": 8,
     "metadata": {},
     "output_type": "execute_result"
    }
   ],
   "source": [
    "# Checking against original df\n",
    "\n",
    "data['is_retained'].value_counts(dropna=False)"
   ]
  },
  {
   "cell_type": "code",
   "execution_count": 9,
   "metadata": {
    "scrolled": true
   },
   "outputs": [
    {
     "data": {
      "text/plain": [
       "House Ads    4733\n",
       "Instagram    1871\n",
       "Facebook     1860\n",
       "Push          993\n",
       "Email         565\n",
       "NaN            15\n",
       "Name: marketing_channel, dtype: int64"
      ]
     },
     "execution_count": 9,
     "metadata": {},
     "output_type": "execute_result"
    }
   ],
   "source": [
    "# Types of marketing channels\n",
    "# Including NaN check within to checka\n",
    "\n",
    "df['marketing_channel'].value_counts(dropna=False)"
   ]
  },
  {
   "cell_type": "code",
   "execution_count": 10,
   "metadata": {},
   "outputs": [
    {
     "data": {
      "text/plain": [
       "House Ads        4733\n",
       "Instagram        1871\n",
       "Facebook         1860\n",
       "Push              993\n",
       "Email             565\n",
       "not_specified      15\n",
       "Name: marketing_channel, dtype: int64"
      ]
     },
     "execution_count": 10,
     "metadata": {},
     "output_type": "execute_result"
    }
   ],
   "source": [
    "# Replace NaN\n",
    "df['marketing_channel'].fillna(value='not_specified', inplace=True)\n",
    "df['marketing_channel'].value_counts(dropna=False)"
   ]
  },
  {
   "cell_type": "code",
   "execution_count": 11,
   "metadata": {},
   "outputs": [
    {
     "data": {
      "text/plain": [
       "[array(['Email', 'Facebook', 'House Ads', 'Instagram', 'Push',\n",
       "        'not_specified'], dtype=object)]"
      ]
     },
     "execution_count": 11,
     "metadata": {},
     "output_type": "execute_result"
    }
   ],
   "source": [
    "# Converting marketing channel to codes to make it\n",
    "# computational inexpensive and ML model ready\n",
    "\n",
    "oe = OrdinalEncoder()\n",
    "\n",
    "oe.fit_transform(df[['marketing_channel']])\n",
    "\n",
    "oe.categories_"
   ]
  },
  {
   "cell_type": "code",
   "execution_count": 12,
   "metadata": {},
   "outputs": [
    {
     "name": "stdout",
     "output_type": "stream",
     "text": [
      "datetime64[ns] datetime64[ns] datetime64[ns]\n"
     ]
    }
   ],
   "source": [
    "# Checking if the data columns are properly read\n",
    "# or improperly read as objects by pandas\n",
    "print(df['date_served'].dtype, \n",
    "      df['date_subscribed'].dtype, \n",
    "      df['date_canceled'].dtype)\n"
   ]
  },
  {
   "cell_type": "code",
   "execution_count": 13,
   "metadata": {},
   "outputs": [],
   "source": [
    "# Now that the conversion has happened, lets\n",
    "# leverage dt data attribute for some useful information\n",
    "# 0 = Monday, ... 7 = Sunday\n",
    "\n",
    "df['day_served'] = df['date_served'].dt.dayofweek"
   ]
  },
  {
   "cell_type": "markdown",
   "metadata": {},
   "source": [
    "#### Number of unique users"
   ]
  },
  {
   "cell_type": "code",
   "execution_count": 14,
   "metadata": {},
   "outputs": [
    {
     "data": {
      "text/plain": [
       "7309"
      ]
     },
     "execution_count": 14,
     "metadata": {},
     "output_type": "execute_result"
    }
   ],
   "source": [
    "df['user_id'].nunique()"
   ]
  },
  {
   "cell_type": "markdown",
   "metadata": {},
   "source": [
    "#### Number of days the campaign has run so far"
   ]
  },
  {
   "cell_type": "code",
   "execution_count": 15,
   "metadata": {},
   "outputs": [
    {
     "data": {
      "text/plain": [
       "31"
      ]
     },
     "execution_count": 15,
     "metadata": {},
     "output_type": "execute_result"
    }
   ],
   "source": [
    "df['date_served'].nunique()"
   ]
  },
  {
   "cell_type": "markdown",
   "metadata": {},
   "source": [
    "#### Did a user see a marketing asset more than once a day?"
   ]
  },
  {
   "cell_type": "code",
   "execution_count": 16,
   "metadata": {
    "scrolled": true
   },
   "outputs": [
    {
     "data": {
      "text/plain": [
       "user_id     date_served\n",
       "a100000894  2018-01-03     6\n",
       "a100000889  2018-01-03     6\n",
       "a100000888  2018-01-02     6\n",
       "a100000882  2018-01-02     4\n",
       "a100000885  2018-01-02     4\n",
       "                          ..\n",
       "a100002089  2018-01-14     1\n",
       "a100002090  2018-01-05     1\n",
       "            2018-01-14     1\n",
       "a100002091  2018-01-06     1\n",
       "a100007294  2018-01-06     1\n",
       "Length: 9741, dtype: int64"
      ]
     },
     "execution_count": 16,
     "metadata": {},
     "output_type": "execute_result"
    }
   ],
   "source": [
    "# Group by user and date the marketing asset was served\n",
    "# use size to get the number of records of each group\n",
    "# sort that by descending order to see values > 1 on top\n",
    "\n",
    "df.groupby(['user_id', 'date_served']).size().sort_values(ascending=False)"
   ]
  },
  {
   "cell_type": "code",
   "execution_count": 17,
   "metadata": {},
   "outputs": [
    {
     "data": {
      "text/html": [
       "<div>\n",
       "<style scoped>\n",
       "    .dataframe tbody tr th:only-of-type {\n",
       "        vertical-align: middle;\n",
       "    }\n",
       "\n",
       "    .dataframe tbody tr th {\n",
       "        vertical-align: top;\n",
       "    }\n",
       "\n",
       "    .dataframe thead th {\n",
       "        text-align: right;\n",
       "    }\n",
       "</style>\n",
       "<table border=\"1\" class=\"dataframe\">\n",
       "  <thead>\n",
       "    <tr style=\"text-align: right;\">\n",
       "      <th></th>\n",
       "      <th>user_id</th>\n",
       "      <th>date_served</th>\n",
       "      <th>marketing_channel</th>\n",
       "      <th>variant</th>\n",
       "      <th>converted</th>\n",
       "      <th>language_displayed</th>\n",
       "      <th>language_preferred</th>\n",
       "      <th>age_group</th>\n",
       "      <th>date_subscribed</th>\n",
       "      <th>date_canceled</th>\n",
       "      <th>subscribing_channel</th>\n",
       "      <th>is_retained</th>\n",
       "      <th>day_served</th>\n",
       "    </tr>\n",
       "  </thead>\n",
       "  <tbody>\n",
       "    <tr>\n",
       "      <th>1000</th>\n",
       "      <td>a100000894</td>\n",
       "      <td>2018-01-03</td>\n",
       "      <td>House Ads</td>\n",
       "      <td>control</td>\n",
       "      <td>False</td>\n",
       "      <td>English</td>\n",
       "      <td>English</td>\n",
       "      <td>30-36 years</td>\n",
       "      <td>2018-01-08</td>\n",
       "      <td>2018-04-02</td>\n",
       "      <td>Instagram</td>\n",
       "      <td>False</td>\n",
       "      <td>2.0</td>\n",
       "    </tr>\n",
       "    <tr>\n",
       "      <th>1001</th>\n",
       "      <td>a100000894</td>\n",
       "      <td>2018-01-03</td>\n",
       "      <td>House Ads</td>\n",
       "      <td>control</td>\n",
       "      <td>False</td>\n",
       "      <td>English</td>\n",
       "      <td>English</td>\n",
       "      <td>30-36 years</td>\n",
       "      <td>2018-01-12</td>\n",
       "      <td>NaT</td>\n",
       "      <td>Instagram</td>\n",
       "      <td>True</td>\n",
       "      <td>2.0</td>\n",
       "    </tr>\n",
       "    <tr>\n",
       "      <th>1002</th>\n",
       "      <td>a100000894</td>\n",
       "      <td>2018-01-03</td>\n",
       "      <td>House Ads</td>\n",
       "      <td>control</td>\n",
       "      <td>False</td>\n",
       "      <td>English</td>\n",
       "      <td>English</td>\n",
       "      <td>24-30 years</td>\n",
       "      <td>2018-01-08</td>\n",
       "      <td>2018-04-02</td>\n",
       "      <td>Instagram</td>\n",
       "      <td>False</td>\n",
       "      <td>2.0</td>\n",
       "    </tr>\n",
       "    <tr>\n",
       "      <th>1003</th>\n",
       "      <td>a100000894</td>\n",
       "      <td>2018-01-03</td>\n",
       "      <td>House Ads</td>\n",
       "      <td>control</td>\n",
       "      <td>False</td>\n",
       "      <td>English</td>\n",
       "      <td>English</td>\n",
       "      <td>24-30 years</td>\n",
       "      <td>2018-01-12</td>\n",
       "      <td>NaT</td>\n",
       "      <td>Instagram</td>\n",
       "      <td>True</td>\n",
       "      <td>2.0</td>\n",
       "    </tr>\n",
       "    <tr>\n",
       "      <th>1004</th>\n",
       "      <td>a100000894</td>\n",
       "      <td>2018-01-03</td>\n",
       "      <td>House Ads</td>\n",
       "      <td>control</td>\n",
       "      <td>False</td>\n",
       "      <td>English</td>\n",
       "      <td>English</td>\n",
       "      <td>30-36 years</td>\n",
       "      <td>2018-01-08</td>\n",
       "      <td>2018-04-02</td>\n",
       "      <td>Instagram</td>\n",
       "      <td>False</td>\n",
       "      <td>2.0</td>\n",
       "    </tr>\n",
       "    <tr>\n",
       "      <th>1005</th>\n",
       "      <td>a100000894</td>\n",
       "      <td>2018-01-03</td>\n",
       "      <td>House Ads</td>\n",
       "      <td>control</td>\n",
       "      <td>False</td>\n",
       "      <td>English</td>\n",
       "      <td>English</td>\n",
       "      <td>30-36 years</td>\n",
       "      <td>2018-01-12</td>\n",
       "      <td>NaT</td>\n",
       "      <td>Instagram</td>\n",
       "      <td>True</td>\n",
       "      <td>2.0</td>\n",
       "    </tr>\n",
       "  </tbody>\n",
       "</table>\n",
       "</div>"
      ],
      "text/plain": [
       "         user_id date_served marketing_channel  variant converted  \\\n",
       "1000  a100000894  2018-01-03         House Ads  control     False   \n",
       "1001  a100000894  2018-01-03         House Ads  control     False   \n",
       "1002  a100000894  2018-01-03         House Ads  control     False   \n",
       "1003  a100000894  2018-01-03         House Ads  control     False   \n",
       "1004  a100000894  2018-01-03         House Ads  control     False   \n",
       "1005  a100000894  2018-01-03         House Ads  control     False   \n",
       "\n",
       "     language_displayed language_preferred    age_group date_subscribed  \\\n",
       "1000            English            English  30-36 years      2018-01-08   \n",
       "1001            English            English  30-36 years      2018-01-12   \n",
       "1002            English            English  24-30 years      2018-01-08   \n",
       "1003            English            English  24-30 years      2018-01-12   \n",
       "1004            English            English  30-36 years      2018-01-08   \n",
       "1005            English            English  30-36 years      2018-01-12   \n",
       "\n",
       "     date_canceled subscribing_channel is_retained  day_served  \n",
       "1000    2018-04-02           Instagram       False         2.0  \n",
       "1001           NaT           Instagram        True         2.0  \n",
       "1002    2018-04-02           Instagram       False         2.0  \n",
       "1003           NaT           Instagram        True         2.0  \n",
       "1004    2018-04-02           Instagram       False         2.0  \n",
       "1005           NaT           Instagram        True         2.0  "
      ]
     },
     "execution_count": 17,
     "metadata": {},
     "output_type": "execute_result"
    }
   ],
   "source": [
    "# Verifying a case where a user saw a marketing asset\n",
    "# more than 1 a day\n",
    "\n",
    "df.groupby(['user_id', 'date_served']).get_group(('a100000894','2018-01-03'))"
   ]
  },
  {
   "cell_type": "markdown",
   "metadata": {},
   "source": [
    "#### How many unique users see the marketing campaign each day"
   ]
  },
  {
   "cell_type": "code",
   "execution_count": 18,
   "metadata": {},
   "outputs": [
    {
     "data": {
      "text/html": [
       "<div>\n",
       "<style scoped>\n",
       "    .dataframe tbody tr th:only-of-type {\n",
       "        vertical-align: middle;\n",
       "    }\n",
       "\n",
       "    .dataframe tbody tr th {\n",
       "        vertical-align: top;\n",
       "    }\n",
       "\n",
       "    .dataframe thead th {\n",
       "        text-align: right;\n",
       "    }\n",
       "</style>\n",
       "<table border=\"1\" class=\"dataframe\">\n",
       "  <thead>\n",
       "    <tr style=\"text-align: right;\">\n",
       "      <th></th>\n",
       "      <th>Unique User Count per day</th>\n",
       "    </tr>\n",
       "    <tr>\n",
       "      <th>date_served</th>\n",
       "      <th></th>\n",
       "    </tr>\n",
       "  </thead>\n",
       "  <tbody>\n",
       "    <tr>\n",
       "      <th>2018-01-01</th>\n",
       "      <td>362</td>\n",
       "    </tr>\n",
       "    <tr>\n",
       "      <th>2018-01-02</th>\n",
       "      <td>374</td>\n",
       "    </tr>\n",
       "    <tr>\n",
       "      <th>2018-01-03</th>\n",
       "      <td>348</td>\n",
       "    </tr>\n",
       "    <tr>\n",
       "      <th>2018-01-04</th>\n",
       "      <td>323</td>\n",
       "    </tr>\n",
       "    <tr>\n",
       "      <th>2018-01-05</th>\n",
       "      <td>319</td>\n",
       "    </tr>\n",
       "    <tr>\n",
       "      <th>2018-01-06</th>\n",
       "      <td>308</td>\n",
       "    </tr>\n",
       "    <tr>\n",
       "      <th>2018-01-07</th>\n",
       "      <td>275</td>\n",
       "    </tr>\n",
       "    <tr>\n",
       "      <th>2018-01-08</th>\n",
       "      <td>312</td>\n",
       "    </tr>\n",
       "    <tr>\n",
       "      <th>2018-01-09</th>\n",
       "      <td>312</td>\n",
       "    </tr>\n",
       "    <tr>\n",
       "      <th>2018-01-10</th>\n",
       "      <td>337</td>\n",
       "    </tr>\n",
       "    <tr>\n",
       "      <th>2018-01-11</th>\n",
       "      <td>310</td>\n",
       "    </tr>\n",
       "    <tr>\n",
       "      <th>2018-01-12</th>\n",
       "      <td>301</td>\n",
       "    </tr>\n",
       "    <tr>\n",
       "      <th>2018-01-13</th>\n",
       "      <td>306</td>\n",
       "    </tr>\n",
       "    <tr>\n",
       "      <th>2018-01-14</th>\n",
       "      <td>305</td>\n",
       "    </tr>\n",
       "    <tr>\n",
       "      <th>2018-01-15</th>\n",
       "      <td>767</td>\n",
       "    </tr>\n",
       "    <tr>\n",
       "      <th>2018-01-16</th>\n",
       "      <td>388</td>\n",
       "    </tr>\n",
       "    <tr>\n",
       "      <th>2018-01-17</th>\n",
       "      <td>369</td>\n",
       "    </tr>\n",
       "    <tr>\n",
       "      <th>2018-01-18</th>\n",
       "      <td>318</td>\n",
       "    </tr>\n",
       "    <tr>\n",
       "      <th>2018-01-19</th>\n",
       "      <td>305</td>\n",
       "    </tr>\n",
       "    <tr>\n",
       "      <th>2018-01-20</th>\n",
       "      <td>311</td>\n",
       "    </tr>\n",
       "    <tr>\n",
       "      <th>2018-01-21</th>\n",
       "      <td>229</td>\n",
       "    </tr>\n",
       "    <tr>\n",
       "      <th>2018-01-22</th>\n",
       "      <td>178</td>\n",
       "    </tr>\n",
       "    <tr>\n",
       "      <th>2018-01-23</th>\n",
       "      <td>172</td>\n",
       "    </tr>\n",
       "    <tr>\n",
       "      <th>2018-01-24</th>\n",
       "      <td>190</td>\n",
       "    </tr>\n",
       "    <tr>\n",
       "      <th>2018-01-25</th>\n",
       "      <td>184</td>\n",
       "    </tr>\n",
       "    <tr>\n",
       "      <th>2018-01-26</th>\n",
       "      <td>222</td>\n",
       "    </tr>\n",
       "    <tr>\n",
       "      <th>2018-01-27</th>\n",
       "      <td>320</td>\n",
       "    </tr>\n",
       "    <tr>\n",
       "      <th>2018-01-28</th>\n",
       "      <td>320</td>\n",
       "    </tr>\n",
       "    <tr>\n",
       "      <th>2018-01-29</th>\n",
       "      <td>319</td>\n",
       "    </tr>\n",
       "    <tr>\n",
       "      <th>2018-01-30</th>\n",
       "      <td>317</td>\n",
       "    </tr>\n",
       "    <tr>\n",
       "      <th>2018-01-31</th>\n",
       "      <td>340</td>\n",
       "    </tr>\n",
       "  </tbody>\n",
       "</table>\n",
       "</div>"
      ],
      "text/plain": [
       "             Unique User Count per day\n",
       "date_served                           \n",
       "2018-01-01                         362\n",
       "2018-01-02                         374\n",
       "2018-01-03                         348\n",
       "2018-01-04                         323\n",
       "2018-01-05                         319\n",
       "2018-01-06                         308\n",
       "2018-01-07                         275\n",
       "2018-01-08                         312\n",
       "2018-01-09                         312\n",
       "2018-01-10                         337\n",
       "2018-01-11                         310\n",
       "2018-01-12                         301\n",
       "2018-01-13                         306\n",
       "2018-01-14                         305\n",
       "2018-01-15                         767\n",
       "2018-01-16                         388\n",
       "2018-01-17                         369\n",
       "2018-01-18                         318\n",
       "2018-01-19                         305\n",
       "2018-01-20                         311\n",
       "2018-01-21                         229\n",
       "2018-01-22                         178\n",
       "2018-01-23                         172\n",
       "2018-01-24                         190\n",
       "2018-01-25                         184\n",
       "2018-01-26                         222\n",
       "2018-01-27                         320\n",
       "2018-01-28                         320\n",
       "2018-01-29                         319\n",
       "2018-01-30                         317\n",
       "2018-01-31                         340"
      ]
     },
     "execution_count": 18,
     "metadata": {},
     "output_type": "execute_result"
    }
   ],
   "source": [
    "# Group by date the marketing asset was served\n",
    "# retrieve user id for each group and use nunique \n",
    "# on that to check this metric\n",
    "\n",
    "pd.DataFrame(\n",
    "    df.groupby('date_served')['user_id'].nunique()\n",
    ").rename(columns={'user_id':'Unique User Count per day'})"
   ]
  },
  {
   "cell_type": "code",
   "execution_count": 19,
   "metadata": {},
   "outputs": [
    {
     "data": {
      "image/png": "[encoded data removed]",
      "text/plain": [
       "<Figure size 720x432 with 1 Axes>"
      ]
     },
     "metadata": {
      "needs_background": "light"
     },
     "output_type": "display_data"
    }
   ],
   "source": [
    "plt.figure(figsize=(10,6))\n",
    "\n",
    "# Plot\n",
    "plt.plot(df.groupby('date_served')['user_id'].nunique())\n",
    "\n",
    "# Annotate\n",
    "# Want to see all the dates along the x-axis\n",
    "plt.xticks(df.groupby('date_served')['user_id'].nunique().index)\n",
    "# Rotate to see better\n",
    "plt.xticks(rotation=90)\n",
    "plt.ylabel('Unique User Count')\n",
    "plt.xlabel('Date ad was served')\n",
    "plt.title('Daily number of Unique users who see ads\\n', size=15, fontweight=\"bold\")\n",
    "plt.show()"
   ]
  },
  {
   "cell_type": "markdown",
   "metadata": {},
   "source": [
    "*Based on above, `perhaps a marketing email or the sorts was sent on the day we see a spike`*"
   ]
  },
  {
   "cell_type": "markdown",
   "metadata": {},
   "source": [
    "---"
   ]
  },
  {
   "cell_type": "markdown",
   "metadata": {},
   "source": [
    "## Common Marketing Metrics\n",
    "- These are typically used to measure marketing campaign success\n"
   ]
  },
  {
   "cell_type": "markdown",
   "metadata": {},
   "source": [
    "### 1. Conversion Rate\n",
    "- For a marketing team, typically a campaign's success is measured by a `Conversion Rate`\n",
    "- Definition: Of all the people who came in contact with the marketing campaign, how many bought the product? i.e., depending on the business, did a person make a purchase or subscribed to the service.\n",
    "- Conversion Rate = # of people who convert / Total # of people we marketed to"
   ]
  },
  {
   "cell_type": "code",
   "execution_count": 20,
   "metadata": {},
   "outputs": [
    {
     "data": {
      "text/plain": [
       "False    8946\n",
       "True     1076\n",
       "NaN        15\n",
       "Name: converted, dtype: int64"
      ]
     },
     "execution_count": 20,
     "metadata": {},
     "output_type": "execute_result"
    }
   ],
   "source": [
    "# Calculate the total number of people who converted\n",
    "\n",
    "df[df['converted']==True]\n",
    "df['converted'].value_counts(dropna=False)"
   ]
  },
  {
   "cell_type": "code",
   "execution_count": 21,
   "metadata": {},
   "outputs": [
    {
     "name": "stdout",
     "output_type": "stream",
     "text": [
      "# of people who converted                         : 1015\n",
      "Total # of users                                  : 7309\n",
      "\n",
      "Conversion Rate                                   : 13.89 %\n"
     ]
    }
   ],
   "source": [
    "# Users who converted\n",
    "subscribers = df[df['converted']==True]['user_id'].nunique()\n",
    "print(f\"{'# of people who converted':<{pad}}: {subscribers}\")\n",
    "\n",
    "# Total # of users\n",
    "total = df['user_id'].nunique()\n",
    "print(f\"{'Total # of users':<{pad}}: {total}\")\n",
    "\n",
    "# Conversion Rate\n",
    "conversion_rate = subscribers / total\n",
    "print(f\"\\n{'Conversion Rate':<{pad}}: {round(conversion_rate*100,2)} %\")\n"
   ]
  },
  {
   "cell_type": "markdown",
   "metadata": {},
   "source": [
    "### 2. Retention Rate\n",
    "- Definition: Once a user has signed up for a subscription, are they still a subscriber 1, 3, 23 months in?\n",
    "- This metric requires patience since we cannot know 90-day retention rates until 90 days have passed since the user initially subscribed\n",
    "- Retention Rate = # of people who remain subscribed / Total # of people who converted"
   ]
  },
  {
   "cell_type": "code",
   "execution_count": 22,
   "metadata": {},
   "outputs": [
    {
     "name": "stdout",
     "output_type": "stream",
     "text": [
      "# of people remained subscribed over 1 month      : 678\n",
      "\n",
      "Retention Rate                                    : 66.8 %\n"
     ]
    }
   ],
   "source": [
    "# In this case, we'll calculate retention over 1 month\n",
    "retained = df[df['is_retained']==True]['user_id'].nunique()\n",
    "print(f\"{'# of people remained subscribed over 1 month':<{pad}}: {retained}\")\n",
    "\n",
    "# Retention Rate\n",
    "rentention_rate =  retained / subscribers\n",
    "print(f\"\\n{'Retention Rate':<{pad}}: {round(rentention_rate*100,2)} %\")"
   ]
  },
  {
   "cell_type": "markdown",
   "metadata": {},
   "source": [
    "### 3. Customer Segmentation\n",
    "- It's important to understand how we are marketing to\n",
    "- Customer segmentation is done based on specific characteristics (e.g. Age group, Gender, Location, past interation with the business, marketing channels users interacted with, etc.)\n",
    "- This segmentation also helps in breaking down metrics to the customer segment in case we want to further investigate the metrics based on the customer segments that matter most to the business\n",
    "- Customer segmentation can help marketing teams evaluate and propose different marketing techniques that are tailored to a segment for the biggest bang for the buck.\n"
   ]
  },
  {
   "cell_type": "markdown",
   "metadata": {},
   "source": [
    "#### Customer Segmentation by subscribing channel"
   ]
  },
  {
   "cell_type": "code",
   "execution_count": 23,
   "metadata": {},
   "outputs": [
    {
     "data": {
      "text/html": [
       "<div>\n",
       "<style scoped>\n",
       "    .dataframe tbody tr th:only-of-type {\n",
       "        vertical-align: middle;\n",
       "    }\n",
       "\n",
       "    .dataframe tbody tr th {\n",
       "        vertical-align: top;\n",
       "    }\n",
       "\n",
       "    .dataframe thead th {\n",
       "        text-align: right;\n",
       "    }\n",
       "</style>\n",
       "<table border=\"1\" class=\"dataframe\">\n",
       "  <thead>\n",
       "    <tr style=\"text-align: right;\">\n",
       "      <th></th>\n",
       "      <th>user_id</th>\n",
       "      <th>date_served</th>\n",
       "      <th>marketing_channel</th>\n",
       "      <th>variant</th>\n",
       "      <th>converted</th>\n",
       "      <th>language_displayed</th>\n",
       "      <th>language_preferred</th>\n",
       "      <th>age_group</th>\n",
       "      <th>date_subscribed</th>\n",
       "      <th>date_canceled</th>\n",
       "      <th>subscribing_channel</th>\n",
       "      <th>is_retained</th>\n",
       "      <th>day_served</th>\n",
       "    </tr>\n",
       "  </thead>\n",
       "  <tbody>\n",
       "    <tr>\n",
       "      <th>0</th>\n",
       "      <td>a100000029</td>\n",
       "      <td>2018-01-01</td>\n",
       "      <td>House Ads</td>\n",
       "      <td>personalization</td>\n",
       "      <td>True</td>\n",
       "      <td>English</td>\n",
       "      <td>English</td>\n",
       "      <td>0-18 years</td>\n",
       "      <td>2018-01-01</td>\n",
       "      <td>NaT</td>\n",
       "      <td>House Ads</td>\n",
       "      <td>True</td>\n",
       "      <td>0.0</td>\n",
       "    </tr>\n",
       "    <tr>\n",
       "      <th>1</th>\n",
       "      <td>a100000030</td>\n",
       "      <td>2018-01-01</td>\n",
       "      <td>House Ads</td>\n",
       "      <td>personalization</td>\n",
       "      <td>True</td>\n",
       "      <td>English</td>\n",
       "      <td>English</td>\n",
       "      <td>19-24 years</td>\n",
       "      <td>2018-01-01</td>\n",
       "      <td>NaT</td>\n",
       "      <td>House Ads</td>\n",
       "      <td>True</td>\n",
       "      <td>0.0</td>\n",
       "    </tr>\n",
       "    <tr>\n",
       "      <th>2</th>\n",
       "      <td>a100000031</td>\n",
       "      <td>2018-01-01</td>\n",
       "      <td>House Ads</td>\n",
       "      <td>personalization</td>\n",
       "      <td>True</td>\n",
       "      <td>English</td>\n",
       "      <td>English</td>\n",
       "      <td>24-30 years</td>\n",
       "      <td>2018-01-01</td>\n",
       "      <td>NaT</td>\n",
       "      <td>House Ads</td>\n",
       "      <td>True</td>\n",
       "      <td>0.0</td>\n",
       "    </tr>\n",
       "    <tr>\n",
       "      <th>3</th>\n",
       "      <td>a100000032</td>\n",
       "      <td>2018-01-01</td>\n",
       "      <td>House Ads</td>\n",
       "      <td>personalization</td>\n",
       "      <td>True</td>\n",
       "      <td>English</td>\n",
       "      <td>English</td>\n",
       "      <td>30-36 years</td>\n",
       "      <td>2018-01-01</td>\n",
       "      <td>NaT</td>\n",
       "      <td>House Ads</td>\n",
       "      <td>True</td>\n",
       "      <td>0.0</td>\n",
       "    </tr>\n",
       "    <tr>\n",
       "      <th>4</th>\n",
       "      <td>a100000033</td>\n",
       "      <td>2018-01-01</td>\n",
       "      <td>House Ads</td>\n",
       "      <td>personalization</td>\n",
       "      <td>True</td>\n",
       "      <td>English</td>\n",
       "      <td>English</td>\n",
       "      <td>36-45 years</td>\n",
       "      <td>2018-01-01</td>\n",
       "      <td>NaT</td>\n",
       "      <td>House Ads</td>\n",
       "      <td>True</td>\n",
       "      <td>0.0</td>\n",
       "    </tr>\n",
       "  </tbody>\n",
       "</table>\n",
       "</div>"
      ],
      "text/plain": [
       "      user_id date_served marketing_channel          variant converted  \\\n",
       "0  a100000029  2018-01-01         House Ads  personalization      True   \n",
       "1  a100000030  2018-01-01         House Ads  personalization      True   \n",
       "2  a100000031  2018-01-01         House Ads  personalization      True   \n",
       "3  a100000032  2018-01-01         House Ads  personalization      True   \n",
       "4  a100000033  2018-01-01         House Ads  personalization      True   \n",
       "\n",
       "  language_displayed language_preferred    age_group date_subscribed  \\\n",
       "0            English            English   0-18 years      2018-01-01   \n",
       "1            English            English  19-24 years      2018-01-01   \n",
       "2            English            English  24-30 years      2018-01-01   \n",
       "3            English            English  30-36 years      2018-01-01   \n",
       "4            English            English  36-45 years      2018-01-01   \n",
       "\n",
       "  date_canceled subscribing_channel is_retained  day_served  \n",
       "0           NaT           House Ads        True         0.0  \n",
       "1           NaT           House Ads        True         0.0  \n",
       "2           NaT           House Ads        True         0.0  \n",
       "3           NaT           House Ads        True         0.0  \n",
       "4           NaT           House Ads        True         0.0  "
      ]
     },
     "execution_count": 23,
     "metadata": {},
     "output_type": "execute_result"
    }
   ],
   "source": [
    "# Lets check the retention rate of users that clicked on a House ad subscribing channel\n",
    "# Subsequently, we'll calculate retention rate amoung different subscribing channels\n",
    "\n",
    "# Below is the sample data for the House Ads segmentation\n",
    "df[df['subscribing_channel']=='House Ads'].head()"
   ]
  },
  {
   "cell_type": "code",
   "execution_count": 24,
   "metadata": {},
   "outputs": [
    {
     "data": {
      "text/plain": [
       "subscribing_channel\n",
       "Email        161\n",
       "Facebook     221\n",
       "House Ads    298\n",
       "Instagram    232\n",
       "Push          77\n",
       "Name: user_id, dtype: int64"
      ]
     },
     "execution_count": 24,
     "metadata": {},
     "output_type": "execute_result"
    }
   ],
   "source": [
    "# Number of subscribers by subscribing channel\n",
    "\n",
    "sub_by_channel = df[df['converted']==True].groupby('subscribing_channel')['user_id'].nunique()\n",
    "sub_by_channel"
   ]
  },
  {
   "cell_type": "code",
   "execution_count": 25,
   "metadata": {},
   "outputs": [
    {
     "data": {
      "text/plain": [
       "subscribing_channel\n",
       "Email        141\n",
       "Facebook     152\n",
       "House Ads    173\n",
       "Instagram    158\n",
       "Push          54\n",
       "Name: user_id, dtype: int64"
      ]
     },
     "execution_count": 25,
     "metadata": {},
     "output_type": "execute_result"
    }
   ],
   "source": [
    "# Number of retained people by subscribing channel\n",
    "\n",
    "ret_by_channel = df[df['is_retained']==True].groupby('subscribing_channel')['user_id'].nunique()\n",
    "ret_by_channel"
   ]
  },
  {
   "cell_type": "code",
   "execution_count": 26,
   "metadata": {},
   "outputs": [
    {
     "data": {
      "text/plain": [
       "subscribing_channel\n",
       "Email        87.6\n",
       "Facebook     68.8\n",
       "House Ads    58.1\n",
       "Instagram    68.1\n",
       "Push         70.1\n",
       "Name: user_id, dtype: float64"
      ]
     },
     "execution_count": 26,
     "metadata": {},
     "output_type": "execute_result"
    }
   ],
   "source": [
    "channel_retention_rate = round(((ret_by_channel/sub_by_channel)*100),1)\n",
    "channel_retention_rate"
   ]
  },
  {
   "cell_type": "markdown",
   "metadata": {},
   "source": [
    "*`Email` has the highest retention rate among the marketing channels*"
   ]
  },
  {
   "cell_type": "markdown",
   "metadata": {},
   "source": [
    "## Plotting Campaign results"
   ]
  },
  {
   "cell_type": "markdown",
   "metadata": {},
   "source": [
    "### 1. Conversion by Language"
   ]
  },
  {
   "cell_type": "code",
   "execution_count": 27,
   "metadata": {},
   "outputs": [
    {
     "data": {
      "image/png": "[encoded data removed]",
      "text/plain": [
       "<Figure size 432x288 with 1 Axes>"
      ]
     },
     "metadata": {
      "needs_background": "light"
     },
     "output_type": "display_data"
    }
   ],
   "source": [
    "# Get the subscribers by language\n",
    "sub_by_lang = df[df['converted']==True].groupby('language_displayed')['user_id'].nunique()\n",
    "\n",
    "# Total unique users by langauage \n",
    "# Group by language and count unique users\n",
    "total_by_lang = df.groupby('language_displayed')['user_id'].nunique()\n",
    "\n",
    "# Conversion rate for all languages\n",
    "lang_conversion_rate = (sub_by_lang/total_by_lang)\n",
    "\n",
    "# Plot results\n",
    "# plt.figure(figsize=(10,8))\n",
    "lang_conversion_rate.plot(kind='bar')\n",
    "\n",
    "# Annotate\n",
    "plt.xlabel('Language')\n",
    "plt.ylabel('Conversion Rate (%)')\n",
    "plt.title('Conversion Rate by Language\\n', size=15, fontweight='bold')\n",
    "plt.ylim(0,1)\n",
    "\n",
    "for x,y in enumerate(lang_conversion_rate):\n",
    "    label = round(y,2)\n",
    "    plt.annotate(\n",
    "        label, \n",
    "        (x,y), \n",
    "        textcoords=\"offset points\", \n",
    "        xytext=(0,10),\n",
    "        ha='center') \n",
    "\n",
    "plt.show()"
   ]
  },
  {
   "cell_type": "markdown",
   "metadata": {},
   "source": [
    "### 2. Subscriber Quality\n",
    "\n",
    "- Essentially, we are doing a simple form of cohort analysis that helps us evaluate the quality of subscribers we're bringing in each day\n",
    "- If we see this metric trend upward overtime, it could mean that: \n",
    "    1. the business is getting better at converting users who are genuinely interested in the product\n",
    "    2. we're improving our onboarding process once users subscribe"
   ]
  },
  {
   "cell_type": "code",
   "execution_count": 51,
   "metadata": {},
   "outputs": [
    {
     "data": {
      "image/png": "[encoded data removed]",
      "text/plain": [
       "<Figure size 720x432 with 1 Axes>"
      ]
     },
     "metadata": {
      "needs_background": "light"
     },
     "output_type": "display_data"
    }
   ],
   "source": [
    "# This is the number of unique subscribers who\n",
    "# subscribed on a given date\n",
    "total_subs_per_date = df.groupby('date_subscribed')['user_id'].nunique()\n",
    "\n",
    "# Number of subscribers who have been retained \n",
    "# on a given date\n",
    "subs_retained_per_date = df[df['is_retained']==True].groupby('date_subscribed')['user_id'].nunique()\n",
    "\n",
    "# Daily Retention Rate\n",
    "daily_retention_rate = subs_retained_per_date / total_subs_per_date\n",
    "\n",
    "# Plot\n",
    "plt.figure(figsize=(10,6))\n",
    "plt.plot(daily_retention_rate)\n",
    "plt.xticks(daily_retention_rate.index)\n",
    "\n",
    "# Annotate\n",
    "plt.xlabel('Date')\n",
    "plt.ylabel('1-month Retention Rate (%)')\n",
    "plt.title('Daily Subscriber Quality\\n', size=15, fontweight='bold')\n",
    "plt.xticks(rotation=90)\n",
    "\n",
    "# set the limits from 0 to 1 to get an accurate \n",
    "# understanding and not get swayed by automatic \n",
    "# matplotlib axis and its corresponding interpretation\n",
    "plt.ylim(0, 1)  \n",
    "\n",
    "plt.show()"
   ]
  },
  {
   "cell_type": "markdown",
   "metadata": {},
   "source": [
    "*If this chart were to trend downward, it would imply that we have an unfavorable customer churn since we are retaining lesser customers*"
   ]
  },
  {
   "cell_type": "code",
   "execution_count": null,
   "metadata": {},
   "outputs": [],
   "source": []
  }
 ],
 "metadata": {
  "kernelspec": {
   "display_name": "Python 3",
   "language": "python",
   "name": "python3"
  },
  "language_info": {
   "codemirror_mode": {
    "name": "ipython",
    "version": 3
   },
   "file_extension": ".py",
   "mimetype": "text/x-python",
   "name": "python",
   "nbconvert_exporter": "python",
   "pygments_lexer": "ipython3",
   "version": "3.8.5"
  }
 },
 "nbformat": 4,
 "nbformat_minor": 4
}
